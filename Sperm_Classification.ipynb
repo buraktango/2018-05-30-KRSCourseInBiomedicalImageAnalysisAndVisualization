{
  "nbformat": 4,
  "nbformat_minor": 0,
  "metadata": {
    "colab": {
      "name": "Sperm Classification.ipynb",
      "provenance": [],
      "collapsed_sections": [],
      "include_colab_link": true
    },
    "kernelspec": {
      "name": "python3",
      "display_name": "Python 3"
    },
    "accelerator": "GPU"
  },
  "cells": [
    {
      "cell_type": "markdown",
      "metadata": {
        "id": "view-in-github",
        "colab_type": "text"
      },
      "source": [
        "<a href=\"https://colab.research.google.com/github/buraktango/2018-05-30-KRSCourseInBiomedicalImageAnalysisAndVisualization/blob/master/Sperm_Classification.ipynb\" target=\"_parent\"><img src=\"https://colab.research.google.com/assets/colab-badge.svg\" alt=\"Open In Colab\"/></a>"
      ]
    },
    {
      "cell_type": "markdown",
      "metadata": {
        "id": "4m6lK-mzWhES",
        "colab_type": "text"
      },
      "source": [
        "# Preparing Workspace"
      ]
    },
    {
      "cell_type": "code",
      "metadata": {
        "id": "wo9kgUCGWxj8",
        "colab_type": "code",
        "outputId": "4d91ca82-a3dd-4ce3-da92-fb785e62c5db",
        "colab": {
          "base_uri": "https://localhost:8080/",
          "height": 34
        }
      },
      "source": [
        "cd drive/My\\ Drive/Sperm_Classification"
      ],
      "execution_count": 0,
      "outputs": [
        {
          "output_type": "stream",
          "text": [
            "/content/drive/My Drive/Sperm_Classification\n"
          ],
          "name": "stdout"
        }
      ]
    },
    {
      "cell_type": "markdown",
      "metadata": {
        "id": "MOztBtx45hot",
        "colab_type": "text"
      },
      "source": [
        "# Reading Images"
      ]
    },
    {
      "cell_type": "code",
      "metadata": {
        "id": "94r_yuXm5pTH",
        "colab_type": "code",
        "colab": {}
      },
      "source": [
        "import os\n",
        "import numpy as np\n",
        "import cv2\n",
        "import matplotlib.pyplot as plt\n",
        "import remove_background\n",
        "\n",
        "text_file = open(\"SCIAN-MorphoSpermGS/PA-expert-annotations.txt\", 'r')"
      ],
      "execution_count": 0,
      "outputs": []
    },
    {
      "cell_type": "code",
      "metadata": {
        "id": "aruDNCCcFj3J",
        "colab_type": "code",
        "colab": {}
      },
      "source": [
        "# Reading the text file\n",
        "lines = []\n",
        "for line in text_file.readlines():\n",
        "  lines.append(line)"
      ],
      "execution_count": 0,
      "outputs": []
    },
    {
      "cell_type": "markdown",
      "metadata": {
        "id": "JXisALgwki8M",
        "colab_type": "text"
      },
      "source": [
        "**Separate the Images to their respective Class**"
      ]
    },
    {
      "cell_type": "code",
      "metadata": {
        "id": "SZFoBIFZkk_h",
        "colab_type": "code",
        "colab": {}
      },
      "source": [
        "label_encoding = {0:\"Normal\",1:\"Tapered\",2:\"Pyriform\",3:\"Small\",5:\"Amorphous\"}"
      ],
      "execution_count": 0,
      "outputs": []
    },
    {
      "cell_type": "code",
      "metadata": {
        "id": "iWzP4oRXWB7Z",
        "colab_type": "code",
        "colab": {}
      },
      "source": [
        "from google.colab.patches import cv2_imshow\n",
        "dataset_folder = \"DataSet\"\n",
        "folder_path = \"SCIAN-MorphoSpermGS/Partial-Agreement-Images\"\n",
        "\n",
        "for line in lines:\n",
        "  # p, pl, sample and sperm no.\n",
        "  x = line.split('-')\n",
        "  px = int(x[0][1:])\n",
        "  plx = int(x[1][2:])\n",
        "  samplex = int(x[2].split('/')[0][6:])\n",
        "  spermx  = int(x[2].split('/')[1].split('\\t')[0][6:])\n",
        "\n",
        "  # Annotation \n",
        "  label = int(line.split('\\t')[-1].split('\\n')[0])\n",
        "\n",
        "  img_file = f\"ch00_p{px}-pl{plx}-sample{samplex}-sperm{spermx}.tif\"\n",
        "\n",
        "  img_path = os.path.join(folder_path, img_file)\n",
        "\n",
        "  img = remove_background.remove_bg(img_path)\n",
        "\n",
        "  class_folder = os.path.join(dataset_folder, label_encoding[label])\n",
        "  img_file_write = f\"ch00_p{px}-pl{plx}-sample{samplex}-sperm{spermx}.png\"\n",
        "  img_write_path = os.path.join(class_folder, img_file_write)\n",
        "\n",
        "  cv2.imwrite(img_write_path, img)\n",
        "\n",
        "  print(f\"Writing: {img_file}\")\n"
      ],
      "execution_count": 0,
      "outputs": []
    },
    {
      "cell_type": "markdown",
      "metadata": {
        "id": "yz0KTL6tpif2",
        "colab_type": "text"
      },
      "source": [
        "No of Samples per Class"
      ]
    },
    {
      "cell_type": "code",
      "metadata": {
        "id": "WYQ9t-jupk6v",
        "colab_type": "code",
        "outputId": "d7d38be1-0f95-4c3c-b06d-bd486840181d",
        "colab": {
          "base_uri": "https://localhost:8080/",
          "height": 102
        }
      },
      "source": [
        "dataset_folder = \"DataSet\"\n",
        "counts = {}\n",
        "for folder in os.listdir(dataset_folder):\n",
        "  counts[folder] = len(os.listdir(os.path.join(dataset_folder, folder)))\n",
        "  print(folder, len(os.listdir(os.path.join(dataset_folder, folder))))"
      ],
      "execution_count": 0,
      "outputs": [
        {
          "output_type": "stream",
          "text": [
            "Amorphous 656\n",
            "Normal 100\n",
            "Small 72\n",
            "Pyriform 76\n",
            "Tapered 228\n"
          ],
          "name": "stdout"
        }
      ]
    },
    {
      "cell_type": "code",
      "metadata": {
        "id": "uL98mS5Kp3mE",
        "colab_type": "code",
        "outputId": "e9a694e0-6051-4a7c-9101-90c9b892ebb3",
        "colab": {
          "base_uri": "https://localhost:8080/",
          "height": 265
        }
      },
      "source": [
        "classes = counts.keys()\n",
        "values = counts.values()\n",
        "\n",
        "plt.bar(classes, values)\n",
        "#plt.savefig(\"plt.png\")\n",
        "plt.show()\n"
      ],
      "execution_count": 0,
      "outputs": [
        {
          "output_type": "display_data",
          "data": {
            "image/png": "[encoded data removed]",
            "text/plain": [
              "<Figure size 432x288 with 1 Axes>"
            ]
          },
          "metadata": {
            "tags": []
          }
        }
      ]
    },
    {
      "cell_type": "markdown",
      "metadata": {
        "id": "8jWQPsk3bLNm",
        "colab_type": "text"
      },
      "source": [
        "# Building the Model"
      ]
    },
    {
      "cell_type": "markdown",
      "metadata": {
        "id": "HUPOYMc5c_iG",
        "colab_type": "text"
      },
      "source": [
        "**Trainig with Custom Model**"
      ]
    },
    {
      "cell_type": "code",
      "metadata": {
        "id": "6rsX1MxubPaM",
        "colab_type": "code",
        "colab": {}
      },
      "source": [
        "import keras,os\n",
        "from keras.models import Sequential\n",
        "from keras.layers import Dense, Conv2D, MaxPool2D , Flatten, Dropout\n",
        "from keras.preprocessing.image import ImageDataGenerator\n",
        "import numpy as np\n",
        "\n",
        "\n",
        "def createCustomModel(input_shape, nClasses):\n",
        "\n",
        "  model = Sequential()\n",
        "  model.add(Conv2D(input_shape=input_shape,filters=64,kernel_size=(3,3),padding=\"same\", activation=\"relu\"))\n",
        "  model.add(Conv2D(filters=64,kernel_size=(3,3),padding=\"same\", activation=\"relu\"))\n",
        "  model.add(MaxPool2D(pool_size=(2,2),strides=(2,2)))\n",
        "  model.add(Dropout(0.25))\n",
        "  model.add(Conv2D(filters=128, kernel_size=(3,3), padding=\"same\", activation=\"relu\"))\n",
        "  model.add(Conv2D(filters=128, kernel_size=(3,3), padding=\"same\", activation=\"relu\"))\n",
        "  model.add(MaxPool2D(pool_size=(2,2),strides=(2,2)))\n",
        "  model.add(Dropout(0.25))\n",
        "  model.add(Conv2D(filters=256, kernel_size=(3,3), padding=\"same\", activation=\"relu\"))\n",
        "  model.add(Conv2D(filters=256, kernel_size=(3,3), padding=\"same\", activation=\"relu\"))\n",
        "  model.add(Conv2D(filters=256, kernel_size=(3,3), padding=\"same\", activation=\"relu\"))\n",
        "  model.add(MaxPool2D(pool_size=(2,2),strides=(2,2)))\n",
        "  model.add(Dropout(0.25))\n",
        "  model.add(Conv2D(filters=512, kernel_size=(3,3), padding=\"same\", activation=\"relu\"))\n",
        "  model.add(Conv2D(filters=512, kernel_size=(3,3), padding=\"same\", activation=\"relu\"))\n",
        "  model.add(Conv2D(filters=512, kernel_size=(3,3), padding=\"same\", activation=\"relu\"))\n",
        "  model.add(MaxPool2D(pool_size=(2,2),strides=(2,2)))\n",
        "  model.add(Dropout(0.25))\n",
        "  model.add(Conv2D(filters=512, kernel_size=(3,3), padding=\"same\", activation=\"relu\"))\n",
        "  model.add(Conv2D(filters=512, kernel_size=(3,3), padding=\"same\", activation=\"relu\"))\n",
        "  model.add(Conv2D(filters=512, kernel_size=(3,3), padding=\"same\", activation=\"relu\"))\n",
        "  model.add(MaxPool2D(pool_size=(2,2),strides=(2,2)))\n",
        "  model.add(Dropout(0.25))\n",
        "  model.add(Flatten())\n",
        "  model.add(Dense(units=4096,activation=\"relu\"))\n",
        "  model.add(Dropout(0.25))\n",
        "  model.add(Dense(units=4096,activation=\"relu\"))\n",
        "  model.add(Dense(units=nClasses, activation=\"sigmoid\"))\n",
        "\n",
        "  return model\n",
        "\n",
        "\n"
      ],
      "execution_count": 0,
      "outputs": []
    },
    {
      "cell_type": "markdown",
      "metadata": {
        "id": "Gra9ATSSbrIq",
        "colab_type": "text"
      },
      "source": [
        "**Train Test Split** "
      ]
    },
    {
      "cell_type": "code",
      "metadata": {
        "id": "mbrxhpmIbuE8",
        "colab_type": "code",
        "colab": {}
      },
      "source": [
        "from tensorflow.keras.preprocessing.image import ImageDataGenerator\n",
        "\n",
        "def splitData(dataFolder, shape, batch_size):\n",
        "\n",
        "  data_dir = dataFolder\n",
        "  img_height = shape[0]\n",
        "  img_width = shape[1]\n",
        "\n",
        "  train_datagen = ImageDataGenerator(rescale=1./255,\n",
        "      # shear_range=0.2,\n",
        "      # zoom_range=0.2,\n",
        "      horizontal_flip=True,\n",
        "      vertical_flip=True,\n",
        "      validation_split=0.2) # set validation split\n",
        "\n",
        "  train_generator = train_datagen.flow_from_directory(\n",
        "      data_dir,\n",
        "      target_size=(img_height, img_width),\n",
        "      batch_size=batch_size,\n",
        "      class_mode='categorical',\n",
        "      subset='training') # set as training data\n",
        "\n",
        "  validation_generator = train_datagen.flow_from_directory(\n",
        "      data_dir, \n",
        "      target_size=(img_height, img_width),\n",
        "      batch_size=batch_size,\n",
        "      class_mode='categorical',\n",
        "      subset='validation') # set as validation data\n",
        "\n",
        "  return train_generator, validation_generator"
      ],
      "execution_count": 0,
      "outputs": []
    },
    {
      "cell_type": "markdown",
      "metadata": {
        "id": "LUmu8E2ScaCb",
        "colab_type": "text"
      },
      "source": [
        "**Compiling The Model**"
      ]
    },
    {
      "cell_type": "code",
      "metadata": {
        "id": "BCSGAuTgceSY",
        "colab_type": "code",
        "colab": {}
      },
      "source": [
        "from keras.optimizers import SGD\n",
        "def compiling(model):\n",
        "  opt = SGD(lr=0.01, momentum=0.9, decay=0.01)\n",
        "  model.compile(optimizer=opt, loss='categorical_crossentropy', metrics=['accuracy'])"
      ],
      "execution_count": 0,
      "outputs": []
    },
    {
      "cell_type": "markdown",
      "metadata": {
        "id": "2RERlWzschYH",
        "colab_type": "text"
      },
      "source": [
        "**Training The Model**"
      ]
    },
    {
      "cell_type": "code",
      "metadata": {
        "id": "kTKzafy6ckOj",
        "colab_type": "code",
        "colab": {}
      },
      "source": [
        "def training(model, train_generator, validation_generator, epoch, batch_size):\n",
        "  nb_epochs = epoch\n",
        "\n",
        "  model.fit_generator(\n",
        "      train_generator,\n",
        "      #steps_per_epoch = train_generator.samples // batch_size,\n",
        "      validation_data = validation_generator, \n",
        "      #validation_steps = validation_generator.samples // batch_size,\n",
        "      use_multiprocessing=True,\n",
        "      epochs = nb_epochs)\n",
        "  \n",
        "  return model"
      ],
      "execution_count": 0,
      "outputs": []
    },
    {
      "cell_type": "code",
      "metadata": {
        "id": "sV6B0Z-Sr3Pv",
        "colab_type": "code",
        "colab": {}
      },
      "source": [
        "\n",
        "def trainDataFolder(dataFolder, nClasses, shape, epoch, batch_size):\n",
        "  input_shape = (shape[0], shape[1], shape[2])\n",
        "\n",
        "  model = createCustomModel(input_shape, nClasses)\n",
        "  train_generator, validation_generator = splitData(dataFolder, shape, batch_size)\n",
        "  compiling(model)\n",
        "  print(\"Done\")\n",
        "  history = training(model, train_generator, validation_generator, epoch, batch_size)\n",
        "\n",
        "  return model, history\n"
      ],
      "execution_count": 0,
      "outputs": []
    },
    {
      "cell_type": "code",
      "metadata": {
        "id": "PSXS-cvfriWX",
        "colab_type": "code",
        "colab": {}
      },
      "source": [
        "model, history = trainDataFolder('DataSet', 5, (224,224,3), 10, 32)"
      ],
      "execution_count": 0,
      "outputs": []
    },
    {
      "cell_type": "markdown",
      "metadata": {
        "id": "uYkN9TcylhMd",
        "colab_type": "text"
      },
      "source": [
        "**Trainig with VGG and Xception Network**"
      ]
    },
    {
      "cell_type": "code",
      "metadata": {
        "id": "_sIbPRUtx4XK",
        "colab_type": "code",
        "colab": {}
      },
      "source": [
        "####### Using Xception prtrained model #########\n",
        "import keras\n",
        "from keras.applications.xception import Xception\n",
        "from keras.preprocessing import image\n",
        "from keras.applications.vgg16 import preprocess_input\n",
        "from keras.layers import Input, Flatten, Dense, Dropout\n",
        "from keras.models import Model\n",
        "import numpy as np\n",
        "\n",
        "\n",
        "def createCustomModel(input_shape, nClasses):\n",
        "  #Get back the convolutional part of a VGG network trained on ImageNet\n",
        "  model_vgg16_conv = Xception(weights='imagenet', include_top=False)\n",
        "  model_vgg16_conv.summary()\n",
        "\n",
        "  #Create your own input format (here 3x200x200)\n",
        "  input = Input(shape=input_shape,name = 'image_input')\n",
        "\n",
        "  #Use the generated model \n",
        "  output_vgg16_conv = model_vgg16_conv(input)\n",
        "\n",
        "  #Add the fully-connected layers \n",
        "  x = Flatten(name='flatten')(output_vgg16_conv)\n",
        "  x = Dense(1024, activation='relu', name='fc1')(x)\n",
        "  x = Dropout(0.4)(x)\n",
        "  x = Dense(nClasses, activation='softmax', name='predictions')(x)\n",
        "\n",
        "  #Create your own model \n",
        "  my_model = Model(input=input, output=x)\n",
        "\n",
        "  opt = SGD(lr=0.01, momentum=0.9, decay=0.01)\n",
        "\n",
        "  #In the summary, weights and layers from VGG part will be hidden, but they will be fit during the training\n",
        "  #my_model.summary()\n",
        "  my_model.compile(optimizer=opt, loss='categorical_crossentropy', metrics=['accuracy'])\n",
        "\n",
        "  return my_model"
      ],
      "execution_count": 0,
      "outputs": []
    },
    {
      "cell_type": "code",
      "metadata": {
        "id": "Mzm-2d2EmEY6",
        "colab_type": "code",
        "colab": {}
      },
      "source": [
        "\n",
        "def trainXceptionModel(dataFolder, nClasses, shape, epoch, batch_size):\n",
        "  input_shape = (shape[0], shape[1], shape[2])\n",
        "\n",
        "  model = createCustomModel(input_shape, nClasses)\n",
        "  train_generator, validation_generator = splitData(dataFolder, shape, batch_size)\n",
        "  \n",
        "  history = training(model, train_generator, validation_generator, epoch, batch_size)\n",
        "\n",
        "  return model, history\n"
      ],
      "execution_count": 0,
      "outputs": []
    },
    {
      "cell_type": "code",
      "metadata": {
        "id": "C-AVFUzkmblW",
        "colab_type": "code",
        "colab": {}
      },
      "source": [
        "model, history = trainXceptionModel('DataSet', 5, (224,224,3), 10, 32)"
      ],
      "execution_count": 0,
      "outputs": []
    },
    {
      "cell_type": "markdown",
      "metadata": {
        "id": "IFhpAwNvpbJK",
        "colab_type": "text"
      },
      "source": [
        "**Manual Reading of the Data**"
      ]
    },
    {
      "cell_type": "code",
      "metadata": {
        "id": "zAM7fLHnCA4N",
        "colab_type": "code",
        "outputId": "4c621cd6-eff2-4b3d-a586-7cb597433916",
        "colab": {
          "base_uri": "https://localhost:8080/",
          "height": 102
        }
      },
      "source": [
        "import cv2\n",
        "# DataSet reading\n",
        "label_encoding = {0:\"Normal\",0:\"Tapered\",0:\"Pyriform\",0:\"Small\",1:\"Amorphous\"}\n",
        "label_decoding = {\"Normal\":0,\"Tapered\":0,\"Pyriform\":0,\"Small\":0,\"Amorphous\":1}\n",
        "\n",
        "data_folder = 'DataSet'\n",
        "Xtrain = []\n",
        "Ytrain = []\n",
        "\n",
        "Xtest = []\n",
        "Ytest = []\n",
        "\n",
        "for folder in os.listdir(data_folder):\n",
        "  print(f\"Reading {folder}\")\n",
        "  folder_path = os.path.join(data_folder, folder)\n",
        "  folder_images = os.listdir(folder_path)\n",
        "\n",
        "  folder_len = len(folder_images)\n",
        "  train_len = int(len(folder_images)*0.8)\n",
        "\n",
        "  # Collect Train images\n",
        "  for i in range(train_len):\n",
        "    img_file = os.path.join(folder_path, folder_images[i])\n",
        "    img = cv2.imread(img_file,0)\n",
        "\n",
        "    #print(img_file)\n",
        "    Xtrain.append(img)\n",
        "    Ytrain.append(label_decoding[str(folder)])\n",
        "\n",
        "  \n",
        "  # Collect Test images\n",
        "  for i in range(train_len, folder_len):\n",
        "    img_file = os.path.join(folder_path, folder_images[i])\n",
        "    img = cv2.imread(img_file,0)\n",
        "\n",
        "    Xtest.append(img)\n",
        "    Ytest.append(label_decoding[str(folder)])\n"
      ],
      "execution_count": 0,
      "outputs": [
        {
          "output_type": "stream",
          "text": [
            "Reading Amorphous\n",
            "Reading Normal\n",
            "Reading Small\n",
            "Reading Pyriform\n",
            "Reading Tapered\n"
          ],
          "name": "stdout"
        }
      ]
    },
    {
      "cell_type": "code",
      "metadata": {
        "id": "ggMg0QVt_sjN",
        "colab_type": "code",
        "outputId": "829d81de-8f6e-42cc-eda9-2d1e27ea1ea0",
        "colab": {
          "base_uri": "https://localhost:8080/",
          "height": 34
        }
      },
      "source": [
        "Xtrain = np.array(Xtrain)\n",
        "Ytrain = np.array(Ytrain)\n",
        "\n",
        "Xtest = np.array(Xtest)\n",
        "Ytest = np.array(Ytest)\n",
        "\n",
        "Xtrain = np.expand_dims(Xtrain, axis=3)\n",
        "Xtest = np.expand_dims(Xtest, axis=3)"
      ],
      "execution_count": 0,
      "outputs": [
        {
          "output_type": "stream",
          "text": [
            "(903, 224, 224, 1)\n"
          ],
          "name": "stdout"
        }
      ]
    },
    {
      "cell_type": "code",
      "metadata": {
        "id": "RNkjXCC3H8zS",
        "colab_type": "code",
        "outputId": "88678d3f-4e1a-4e9f-e48a-5ee45ce7f51e",
        "colab": {
          "base_uri": "https://localhost:8080/",
          "height": 80
        }
      },
      "source": [
        "from keras.utils import to_categorical\n",
        "#Convert to Categorical\n",
        "n_classes = 5\n",
        "\n",
        "Ytrain = to_categorical(Ytrain, num_classes=n_classes)\n",
        "Ytest = to_categorical(Ytest, num_classes=n_classes)"
      ],
      "execution_count": 0,
      "outputs": [
        {
          "output_type": "stream",
          "text": [
            "Using TensorFlow backend.\n"
          ],
          "name": "stderr"
        },
        {
          "output_type": "display_data",
          "data": {
            "text/html": [
              "<p style=\"color: red;\">\n",
              "The default version of TensorFlow in Colab will switch to TensorFlow 2.x on the 27th of March, 2020.<br>\n",
              "We recommend you <a href=\"https://www.tensorflow.org/guide/migrate\" target=\"_blank\">upgrade</a> now\n",
              "or ensure your notebook will continue to use TensorFlow 1.x via the <code>%tensorflow_version 1.x</code> magic:\n",
              "<a href=\"https://colab.research.google.com/notebooks/tensorflow_version.ipynb\" target=\"_blank\">more info</a>.</p>\n"
            ],
            "text/plain": [
              "<IPython.core.display.HTML object>"
            ]
          },
          "metadata": {
            "tags": []
          }
        }
      ]
    },
    {
      "cell_type": "code",
      "metadata": {
        "id": "N86SeRB6LFkc",
        "colab_type": "code",
        "colab": {}
      },
      "source": [
        "my_model.fit(x=Xtrain, y=Ytrain, batch_size=16, epochs=10, validation_data=(Xtest, Ytest), use_multiprocessing=True)"
      ],
      "execution_count": 0,
      "outputs": []
    }
  ]
}